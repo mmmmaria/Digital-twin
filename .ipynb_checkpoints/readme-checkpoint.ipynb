{
 "cells": [
  {
   "cell_type": "markdown",
   "id": "65f16cbb",
   "metadata": {},
   "source": [
    "# Digital Twins in Civil Engineering: Conceptual Framework and Real-World Implementations"
   ]
  },
  {
   "cell_type": "markdown",
   "id": "3d2afec4",
   "metadata": {},
   "source": [
    "This repository contains the code developed for the Ph.D. thesis titled 'Digital Twins in Civil Engineering: Conceptual Framework and Real-World Implementations', written for Maria Megia in the Department of Structural Mechanics and Hydraulic Engineering, at the University of Granada, Spain."
   ]
  },
  {
   "cell_type": "markdown",
   "id": "338cbb80",
   "metadata": {},
   "source": [
    "The following files have been included:\n",
    "- Generative Setting (CWGAN-GP).ipynb\n",
    "- Level 1_Binary Classifier for Damage Detection.ipynb\n",
    "- Level 2_Multiclass Classifier for Damage Location.ipynb\n",
    "- Levels 3 and 4_Regressor for predicting t.ipynb"
   ]
  },
  {
   "cell_type": "markdown",
   "id": "5977462c",
   "metadata": {},
   "source": [
    "If you have any inquiries, you can contact me at maria.megia@ugr.es"
   ]
  },
  {
   "cell_type": "code",
   "execution_count": null,
   "id": "e654c9af",
   "metadata": {},
   "outputs": [],
   "source": []
  }
 ],
 "metadata": {
  "kernelspec": {
   "display_name": "Python 3 (ipykernel)",
   "language": "python",
   "name": "python3"
  },
  "language_info": {
   "codemirror_mode": {
    "name": "ipython",
    "version": 3
   },
   "file_extension": ".py",
   "mimetype": "text/x-python",
   "name": "python",
   "nbconvert_exporter": "python",
   "pygments_lexer": "ipython3",
   "version": "3.10.8"
  }
 },
 "nbformat": 4,
 "nbformat_minor": 5
}
